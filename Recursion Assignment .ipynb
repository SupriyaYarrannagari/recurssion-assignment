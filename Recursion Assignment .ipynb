{
 "cells": [
  {
   "cell_type": "code",
   "execution_count": 5,
   "id": "66e05eea",
   "metadata": {},
   "outputs": [
    {
     "ename": "SyntaxError",
     "evalue": "invalid syntax (2297095345.py, line 2)",
     "output_type": "error",
     "traceback": [
      "\u001b[1;36m  Cell \u001b[1;32mIn[5], line 2\u001b[1;36m\u001b[0m\n\u001b[1;33m    public class towerOfHanoi {\u001b[0m\n\u001b[1;37m           ^\u001b[0m\n\u001b[1;31mSyntaxError\u001b[0m\u001b[1;31m:\u001b[0m invalid syntax\n"
     ]
    }
   ],
   "source": [
    "#1. Can you explain the logic and working of the Tower of Hanoi algorithm by writing a Java program? \n",
    "public class TowerOfHanoi {\n",
    "\n",
    "    public static void main(String[] args) {\n",
    "        int numberOfDisks = 3; // Change this value to the desired number of disks\n",
    "        towerOfHanoi(numberOfDisks, 'A', 'C', 'B');\n",
    "    }\n",
    "\n",
    "    public static void towerOfHanoi(int n, char sourceRod, char destinationRod, char auxiliaryRod) {\n",
    "        if (n == 1) {\n",
    "            System.out.println(\"Move disk 1 from \" + sourceRod + \" to \" + destinationRod);\n",
    "            return;\n",
    "        }\n",
    "\n",
    "        towerOfHanoi(n - 1, sourceRod, auxiliaryRod, destinationRod);\n",
    "        System.out.println(\"Move disk \" + n + \" from \" + sourceRod + \" to \" + destinationRod);\n",
    "        towerOfHanoi(n - 1, auxiliaryRod, destinationRod, sourceRod);\n",
    "    }\n",
    "}"
   ]
  },
  {
   "cell_type": "code",
   "execution_count": 8,
   "id": "84f47f03",
   "metadata": {},
   "outputs": [
    {
     "name": "stdout",
     "output_type": "stream",
     "text": [
      "The minimum number of operations to convert 'horse' to 'ros' is 3.\n"
     ]
    }
   ],
   "source": [
    "#2.Given two strings word1 and word2, return the minimum number of operations required to convert word1 to word2.\n",
    "def min_operations(word1, word2):\n",
    "    len_word1, len_word2 = len(word1), len(word2)\n",
    "    dp = [[0] * (len_word2 + 1) for _ in range(len_word1 + 1)]   \n",
    "    for i in range(len_word1 + 1):\n",
    "        dp[i][0] = i\n",
    "    for j in range(len_word2 + 1):\n",
    "        dp[0][j] = j\n",
    "    for i in range(1, len_word1 + 1):\n",
    "        for j in range(1, len_word2 + 1):\n",
    "            if word1[i - 1] == word2[j - 1]:\n",
    "                dp[i][j] = dp[i - 1][j - 1]\n",
    "            else:\n",
    "                dp[i][j] = 1 + min(dp[i - 1][j],         \n",
    "                                  dp[i - 1][j - 1])   \n",
    "    return dp[len_word1][len_word2]\n",
    "word1 = \"horse\"\n",
    "word2 = \"ros\"\n",
    "result = min_operations(word1, word2)\n",
    "print(f\"The minimum number of operations to convert '{word1}' to '{word2}' is {result}.\")"
   ]
  },
  {
   "cell_type": "code",
   "execution_count": 10,
   "id": "fdd7e778",
   "metadata": {},
   "outputs": [
    {
     "name": "stdout",
     "output_type": "stream",
     "text": [
      "The minimum number of operations to convert 'intention' to 'excecution' is 6.\n"
     ]
    }
   ],
   "source": [
    "def min_operations(word1, word2):\n",
    "    len_word1, len_word2 = len(word1), len(word2)\n",
    "    dp = [[0] * (len_word2 + 1) for _ in range(len_word1 + 1)]   \n",
    "    for i in range(len_word1 + 1):\n",
    "        dp[i][0] = i\n",
    "    for j in range(len_word2 + 1):\n",
    "        dp[0][j] = j\n",
    "    for i in range(1, len_word1 + 1):\n",
    "        for j in range(1, len_word2 + 1):\n",
    "            if word1[i - 1] == word2[j - 1]:\n",
    "                dp[i][j] = dp[i - 1][j - 1]\n",
    "            else:\n",
    "                dp[i][j] = 1 + min(dp[i - 1][j],         \n",
    "                                  dp[i - 1][j - 1])   \n",
    "    return dp[len_word1][len_word2]\n",
    "word1 = \"intention\"\n",
    "word2 = \"excecution\"\n",
    "result = min_operations(word1, word2)\n",
    "print(f\"The minimum number of operations to convert '{word1}' to '{word2}' is {result}.\")"
   ]
  },
  {
   "cell_type": "code",
   "execution_count": 11,
   "id": "8379fade",
   "metadata": {},
   "outputs": [
    {
     "name": "stdout",
     "output_type": "stream",
     "text": [
      "22\n"
     ]
    }
   ],
   "source": [
    "#3. Print the max value of the array [ 13, 1, -3, 22, 5]\n",
    "array=[13,1,-3,22,5]\n",
    "print(max(array))"
   ]
  },
  {
   "cell_type": "code",
   "execution_count": 12,
   "id": "e7a19c2c",
   "metadata": {},
   "outputs": [
    {
     "name": "stdout",
     "output_type": "stream",
     "text": [
      "120\n"
     ]
    }
   ],
   "source": [
    "#4.Find the sum of the values of the array [92, 23, 15, -20, 10]\n",
    "array=[92,23,15,-20,10]\n",
    "print(sum(array))"
   ]
  },
  {
   "cell_type": "code",
   "execution_count": 22,
   "id": "8cc4d534",
   "metadata": {},
   "outputs": [
    {
     "name": "stdout",
     "output_type": "stream",
     "text": [
      "enter a number:153\n",
      "153 is an armstrong number\n"
     ]
    }
   ],
   "source": [
    "#5.Given a number n. Print if it is an armstrong number or not.An armstrong number is a number if the sum of every digit in that number raised to the power of total digits in that number is equal to the number.\n",
    "def is_Armstrong_number(n):\n",
    "    num_str=str(n)\n",
    "    total_digits=len(num_str)\n",
    "    armstrong_sum=sum(int(digit) ** total_digits for digit in num_str)\n",
    "    return armstrong_sum == n\n",
    "number=int(input(\"enter a number:\"))\n",
    "if is_Armstrong_number(number):\n",
    "    print(f\"{number} is an armstrong number\")\n",
    "else:\n",
    "    print(f\"{number} is not an armstrong number\")"
   ]
  },
  {
   "cell_type": "code",
   "execution_count": 23,
   "id": "adf8db5c",
   "metadata": {},
   "outputs": [
    {
     "name": "stdout",
     "output_type": "stream",
     "text": [
      "Enter a number: 143\n",
      "143 is not an Armstrong number.\n"
     ]
    }
   ],
   "source": [
    "def is_armstrong_number(n):\n",
    "    num_str = str(n)\n",
    "    total_digits = len(num_str)\n",
    "    armstrong_sum = sum(int(digit) ** total_digits for digit in num_str)\n",
    "    return armstrong_sum == nss\n",
    "number = int(input(\"Enter a number: \"))\n",
    "if is_armstrong_number(number):\n",
    "    print(f\"{number} is an Armstrong number.\")\n",
    "else:\n",
    "    print(f\"{number} is not an Armstrong number.\")\n"
   ]
  },
  {
   "cell_type": "code",
   "execution_count": null,
   "id": "7ac78a62",
   "metadata": {},
   "outputs": [],
   "source": []
  }
 ],
 "metadata": {
  "kernelspec": {
   "display_name": "Python 3 (ipykernel)",
   "language": "python",
   "name": "python3"
  },
  "language_info": {
   "codemirror_mode": {
    "name": "ipython",
    "version": 3
   },
   "file_extension": ".py",
   "mimetype": "text/x-python",
   "name": "python",
   "nbconvert_exporter": "python",
   "pygments_lexer": "ipython3",
   "version": "3.10.9"
  }
 },
 "nbformat": 4,
 "nbformat_minor": 5
}
